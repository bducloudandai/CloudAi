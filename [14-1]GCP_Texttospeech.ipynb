{
 "cells": [
  {
   "cell_type": "code",
   "execution_count": 1,
   "metadata": {},
   "outputs": [
    {
     "name": "stdout",
     "output_type": "stream",
     "text": [
      "Collecting google-cloud-texttospeech\n",
      "  Downloading google_cloud_texttospeech-2.2.0-py2.py3-none-any.whl (57 kB)\n",
      "Collecting proto-plus>=1.4.0\n",
      "  Downloading proto-plus-1.10.0.tar.gz (24 kB)\n",
      "Collecting google-api-core[grpc]<2.0.0dev,>=1.22.0\n",
      "  Downloading google_api_core-1.22.2-py2.py3-none-any.whl (91 kB)\n",
      "Collecting libcst>=0.2.5\n",
      "  Downloading libcst-0.3.10-py3-none-any.whl (498 kB)\n",
      "Collecting protobuf>=3.12.0\n",
      "  Downloading protobuf-3.13.0-py2.py3-none-any.whl (438 kB)\n",
      "Collecting pytz\n",
      "  Downloading pytz-2020.1-py2.py3-none-any.whl (510 kB)\n",
      "Collecting google-auth<2.0dev,>=1.21.1\n",
      "  Downloading google_auth-1.21.3-py2.py3-none-any.whl (93 kB)\n",
      "Requirement already satisfied, skipping upgrade: setuptools>=34.0.0 in c:\\users\\bducloudandai\\appdata\\local\\programs\\python\\python38-32\\lib\\site-packages (from google-api-core[grpc]<2.0.0dev,>=1.22.0->google-cloud-texttospeech) (47.1.0)\n",
      "Collecting googleapis-common-protos<2.0dev,>=1.6.0\n",
      "  Downloading googleapis_common_protos-1.52.0-py2.py3-none-any.whl (100 kB)\n",
      "Requirement already satisfied, skipping upgrade: requests<3.0.0dev,>=2.18.0 in c:\\users\\bducloudandai\\appdata\\local\\programs\\python\\python38-32\\lib\\site-packages (from google-api-core[grpc]<2.0.0dev,>=1.22.0->google-cloud-texttospeech) (2.24.0)\n",
      "Requirement already satisfied, skipping upgrade: six>=1.10.0 in c:\\users\\bducloudandai\\appdata\\local\\programs\\python\\python38-32\\lib\\site-packages (from google-api-core[grpc]<2.0.0dev,>=1.22.0->google-cloud-texttospeech) (1.15.0)\n",
      "Collecting grpcio<2.0dev,>=1.29.0; extra == \"grpc\"\n",
      "  Downloading grpcio-1.32.0-cp38-cp38-win32.whl (2.2 MB)\n",
      "Collecting pyyaml>=5.2\n",
      "  Downloading PyYAML-5.3.1-cp38-cp38-win32.whl (199 kB)\n",
      "Collecting typing-inspect>=0.4.0\n",
      "  Downloading typing_inspect-0.6.0-py3-none-any.whl (8.1 kB)"
     ]
    },
    {
     "name": "stderr",
     "output_type": "stream",
     "text": [
      "WARNING: You are using pip version 20.1.1; however, version 20.2.3 is available.\n",
      "You should consider upgrading via the 'c:\\users\\bducloudandai\\appdata\\local\\programs\\python\\python38-32\\python.exe -m pip install --upgrade pip' command.\n"
     ]
    },
    {
     "name": "stdout",
     "output_type": "stream",
     "text": [
      "\n",
      "Collecting typing-extensions>=3.7.4.2\n",
      "  Downloading typing_extensions-3.7.4.3-py3-none-any.whl (22 kB)\n",
      "Collecting rsa<5,>=3.1.4; python_version >= \"3.5\"\n",
      "  Downloading rsa-4.6-py3-none-any.whl (47 kB)\n",
      "Collecting pyasn1-modules>=0.2.1\n",
      "  Downloading pyasn1_modules-0.2.8-py2.py3-none-any.whl (155 kB)\n",
      "Collecting cachetools<5.0,>=2.0.0\n",
      "  Downloading cachetools-4.1.1-py3-none-any.whl (10 kB)\n",
      "Requirement already satisfied, skipping upgrade: certifi>=2017.4.17 in c:\\users\\bducloudandai\\appdata\\local\\programs\\python\\python38-32\\lib\\site-packages (from requests<3.0.0dev,>=2.18.0->google-api-core[grpc]<2.0.0dev,>=1.22.0->google-cloud-texttospeech) (2020.6.20)\n",
      "Requirement already satisfied, skipping upgrade: chardet<4,>=3.0.2 in c:\\users\\bducloudandai\\appdata\\local\\programs\\python\\python38-32\\lib\\site-packages (from requests<3.0.0dev,>=2.18.0->google-api-core[grpc]<2.0.0dev,>=1.22.0->google-cloud-texttospeech) (3.0.4)\n",
      "Requirement already satisfied, skipping upgrade: idna<3,>=2.5 in c:\\users\\bducloudandai\\appdata\\local\\programs\\python\\python38-32\\lib\\site-packages (from requests<3.0.0dev,>=2.18.0->google-api-core[grpc]<2.0.0dev,>=1.22.0->google-cloud-texttospeech) (2.10)\n",
      "Requirement already satisfied, skipping upgrade: urllib3!=1.25.0,!=1.25.1,<1.26,>=1.21.1 in c:\\users\\bducloudandai\\appdata\\local\\programs\\python\\python38-32\\lib\\site-packages (from requests<3.0.0dev,>=2.18.0->google-api-core[grpc]<2.0.0dev,>=1.22.0->google-cloud-texttospeech) (1.25.10)\n",
      "Collecting mypy-extensions>=0.3.0\n",
      "  Downloading mypy_extensions-0.4.3-py2.py3-none-any.whl (4.5 kB)\n",
      "Collecting pyasn1>=0.1.3\n",
      "  Downloading pyasn1-0.4.8-py2.py3-none-any.whl (77 kB)\n",
      "Using legacy setup.py install for proto-plus, since package 'wheel' is not installed.\n",
      "Installing collected packages: protobuf, proto-plus, pytz, pyasn1, rsa, pyasn1-modules, cachetools, google-auth, googleapis-common-protos, grpcio, google-api-core, pyyaml, typing-extensions, mypy-extensions, typing-inspect, libcst, google-cloud-texttospeech\n",
      "    Running setup.py install for proto-plus: started\n",
      "    Running setup.py install for proto-plus: finished with status 'done'\n",
      "Successfully installed cachetools-4.1.1 google-api-core-1.22.2 google-auth-1.21.3 google-cloud-texttospeech-2.2.0 googleapis-common-protos-1.52.0 grpcio-1.32.0 libcst-0.3.10 mypy-extensions-0.4.3 proto-plus-1.10.0 protobuf-3.13.0 pyasn1-0.4.8 pyasn1-modules-0.2.8 pytz-2020.1 pyyaml-5.3.1 rsa-4.6 typing-extensions-3.7.4.3 typing-inspect-0.6.0\n"
     ]
    }
   ],
   "source": [
    "!pip install --upgrade google-cloud-texttospeech"
   ]
  },
  {
   "cell_type": "code",
   "execution_count": 1,
   "metadata": {},
   "outputs": [
    {
     "name": "stdout",
     "output_type": "stream",
     "text": [
      "Audio content written to file \"output.mp3\"\n"
     ]
    }
   ],
   "source": [
    "\"\"\"Synthesizes speech from the input string of text or ssml.\n",
    "\n",
    "Note: ssml must be well-formed according to:\n",
    "    https://www.w3.org/TR/speech-synthesis/\n",
    "\"\"\"\n",
    "from google.cloud import texttospeech\n",
    "\n",
    "# Instantiates a client\n",
    "client = texttospeech.TextToSpeechClient()\n",
    "\n",
    "# Set the text input to be synthesized\n",
    "synthesis_input = texttospeech.SynthesisInput(text=\"Hello, World!\")\n",
    "\n",
    "# Build the voice request, select the language code (\"en-US\") and the ssml\n",
    "# voice gender (\"neutral\")\n",
    "voice = texttospeech.VoiceSelectionParams(\n",
    "    language_code=\"en-US\", ssml_gender=texttospeech.SsmlVoiceGender.NEUTRAL\n",
    ")\n",
    "\n",
    "# Select the type of audio file you want returned\n",
    "audio_config = texttospeech.AudioConfig(\n",
    "    audio_encoding=texttospeech.AudioEncoding.MP3\n",
    ")\n",
    "\n",
    "# Perform the text-to-speech request on the text input with the selected\n",
    "# voice parameters and audio file type\n",
    "response = client.synthesize_speech(\n",
    "    input=synthesis_input, voice=voice, audio_config=audio_config\n",
    ")\n",
    "\n",
    "# The response's audio_content is binary.\n",
    "with open(\"output.mp3\", \"wb\") as out:\n",
    "    # Write the response to the output file.\n",
    "    out.write(response.audio_content)\n",
    "    print('Audio content written to file \"output.mp3\"')"
   ]
  },
  {
   "cell_type": "code",
   "execution_count": null,
   "metadata": {},
   "outputs": [],
   "source": []
  }
 ],
 "metadata": {
  "kernelspec": {
   "display_name": "Python 3",
   "language": "python",
   "name": "python3"
  },
  "language_info": {
   "codemirror_mode": {
    "name": "ipython",
    "version": 3
   },
   "file_extension": ".py",
   "mimetype": "text/x-python",
   "name": "python",
   "nbconvert_exporter": "python",
   "pygments_lexer": "ipython3",
   "version": "3.8.5"
  }
 },
 "nbformat": 4,
 "nbformat_minor": 4
}
