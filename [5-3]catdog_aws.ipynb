{
 "cells": [
  {
   "cell_type": "code",
   "execution_count": 1,
   "metadata": {},
   "outputs": [],
   "source": [
    "\n",
    "#dataset https://www.kaggle.com/tongpython/cat-and-dog\n",
    "\n",
    "\n",
    "import os\n",
    "from tensorflow.keras.preprocessing.image import ImageDataGenerator\n",
    "\n",
    "rootPath = './input/cat-and-dog'\n"
   ]
  },
  {
   "cell_type": "code",
   "execution_count": 2,
   "metadata": {},
   "outputs": [],
   "source": [
    "imageGenerator = ImageDataGenerator(rescale=1./255,\n",
    "                                    rotation_range=20,\n",
    "                                    width_shift_range=0.1,\n",
    "                                    height_shift_range=0.1,\n",
    "                                    brightness_range=[.2,.2],\n",
    "                                    horizontal_flip=True,\n",
    "                                    validation_split=.1)"
   ]
  },
  {
   "cell_type": "code",
   "execution_count": 3,
   "metadata": {},
   "outputs": [
    {
     "name": "stdout",
     "output_type": "stream",
     "text": [
      "Found 7205 images belonging to 2 classes.\n",
      "Found 800 images belonging to 2 classes.\n"
     ]
    }
   ],
   "source": [
    "trainGen = imageGenerator.flow_from_directory(os.path.join(rootPath,'training_set'),\n",
    "                                              target_size=(64,64),\n",
    "                                              subset='training')\n",
    "\n",
    "validationGen = imageGenerator.flow_from_directory(os.path.join(rootPath,'training_set'),\n",
    "                                                  target_size=(64,64),\n",
    "                                                  subset='validation')\n"
   ]
  },
  {
   "cell_type": "code",
   "execution_count": 4,
   "metadata": {},
   "outputs": [],
   "source": [
    "from tensorflow.keras.models import Sequential\n",
    "from tensorflow.keras import layers\n",
    "\n",
    "model = Sequential()"
   ]
  },
  {
   "cell_type": "code",
   "execution_count": 5,
   "metadata": {},
   "outputs": [
    {
     "name": "stdout",
     "output_type": "stream",
     "text": [
      "WARNING:tensorflow:From /usr/local/lib/python3.5/dist-packages/tensorflow_core/python/ops/resource_variable_ops.py:1630: calling BaseResourceVariable.__init__ (from tensorflow.python.ops.resource_variable_ops) with constraint is deprecated and will be removed in a future version.\n",
      "Instructions for updating:\n",
      "If using Keras pass *_constraint arguments to layers.\n"
     ]
    }
   ],
   "source": [
    "model.add(layers.InputLayer(input_shape=(64,64,3)))\n",
    "model.add(layers.Conv2D(16,(3,3),(1,1),'same',activation='relu'))\n",
    "model.add(layers.MaxPooling2D((2, 2)))\n",
    "model.add(layers.Dropout(rate=0.3))\n",
    "\n",
    "model.add(layers.Conv2D(32, (3, 3), (1, 1), 'same', activation='relu'))\n",
    "model.add(layers.MaxPooling2D((2, 2)))\n",
    "model.add(layers.Dropout(rate=0.3))\n",
    "\n",
    "model.add(layers.Conv2D(64, (3, 3), (1, 1), 'same', activation='relu'))\n",
    "model.add(layers.MaxPooling2D((2, 2)))\n",
    "model.add(layers.Dropout(rate=0.3))"
   ]
  },
  {
   "cell_type": "code",
   "execution_count": 6,
   "metadata": {},
   "outputs": [
    {
     "name": "stdout",
     "output_type": "stream",
     "text": [
      "Model: \"sequential\"\n",
      "_________________________________________________________________\n",
      "Layer (type)                 Output Shape              Param #   \n",
      "=================================================================\n",
      "conv2d (Conv2D)              (None, 64, 64, 16)        448       \n",
      "_________________________________________________________________\n",
      "max_pooling2d (MaxPooling2D) (None, 32, 32, 16)        0         \n",
      "_________________________________________________________________\n",
      "dropout (Dropout)            (None, 32, 32, 16)        0         \n",
      "_________________________________________________________________\n",
      "conv2d_1 (Conv2D)            (None, 32, 32, 32)        4640      \n",
      "_________________________________________________________________\n",
      "max_pooling2d_1 (MaxPooling2 (None, 16, 16, 32)        0         \n",
      "_________________________________________________________________\n",
      "dropout_1 (Dropout)          (None, 16, 16, 32)        0         \n",
      "_________________________________________________________________\n",
      "conv2d_2 (Conv2D)            (None, 16, 16, 64)        18496     \n",
      "_________________________________________________________________\n",
      "max_pooling2d_2 (MaxPooling2 (None, 8, 8, 64)          0         \n",
      "_________________________________________________________________\n",
      "dropout_2 (Dropout)          (None, 8, 8, 64)          0         \n",
      "_________________________________________________________________\n",
      "flatten (Flatten)            (None, 4096)              0         \n",
      "_________________________________________________________________\n",
      "dense (Dense)                (None, 512)               2097664   \n",
      "_________________________________________________________________\n",
      "dense_1 (Dense)              (None, 256)               131328    \n",
      "_________________________________________________________________\n",
      "dense_2 (Dense)              (None, 2)                 514       \n",
      "=================================================================\n",
      "Total params: 2,253,090\n",
      "Trainable params: 2,253,090\n",
      "Non-trainable params: 0\n",
      "_________________________________________________________________\n"
     ]
    }
   ],
   "source": [
    "model.add(layers.Flatten())\n",
    "model.add(layers.Dense(512, activation='relu'))\n",
    "model.add(layers.Dense(256, activation='relu'))\n",
    "model.add(layers.Dense(2, activation='sigmoid'))\n",
    "\n",
    "model.summary()"
   ]
  },
  {
   "cell_type": "code",
   "execution_count": 7,
   "metadata": {},
   "outputs": [
    {
     "name": "stdout",
     "output_type": "stream",
     "text": [
      "WARNING:tensorflow:From /usr/local/lib/python3.5/dist-packages/tensorflow_core/python/ops/nn_impl.py:183: where (from tensorflow.python.ops.array_ops) is deprecated and will be removed in a future version.\n",
      "Instructions for updating:\n",
      "Use tf.where in 2.0, which has the same broadcast rule as np.where\n"
     ]
    }
   ],
   "source": [
    "model.compile(\n",
    "    optimizer='adam',\n",
    "    loss='binary_crossentropy', \n",
    "    metrics=['acc'],\n",
    ")"
   ]
  },
  {
   "cell_type": "code",
   "execution_count": 8,
   "metadata": {
    "scrolled": false
   },
   "outputs": [
    {
     "name": "stdout",
     "output_type": "stream",
     "text": [
      "Epoch 1/32\n",
      "225/225 [============================>.] - ETA: 0s - loss: 0.6898 - acc: 0.5358Epoch 1/32\n",
      "226/225 [==============================] - 31s 138ms/step - loss: 0.6855 - acc: 0.6045\n",
      "226/225 [==============================] - 75s 332ms/step - loss: 0.6898 - acc: 0.5357 - val_loss: 0.6880 - val_acc: 0.6045\n",
      "Epoch 2/32\n",
      "225/225 [============================>.] - ETA: 0s - loss: 0.6663 - acc: 0.5984Epoch 1/32\n",
      "226/225 [==============================] - 30s 134ms/step - loss: 0.6403 - acc: 0.6325\n",
      "226/225 [==============================] - 65s 290ms/step - loss: 0.6659 - acc: 0.5987 - val_loss: 0.6427 - val_acc: 0.6325\n",
      "Epoch 3/32\n",
      "225/225 [============================>.] - ETA: 0s - loss: 0.6343 - acc: 0.6396Epoch 1/32\n",
      "226/225 [==============================] - 31s 135ms/step - loss: 0.6227 - acc: 0.6435\n",
      "226/225 [==============================] - 66s 291ms/step - loss: 0.6344 - acc: 0.6393 - val_loss: 0.6250 - val_acc: 0.6435\n",
      "Epoch 4/32\n",
      "225/225 [============================>.] - ETA: 0s - loss: 0.6256 - acc: 0.6472Epoch 1/32\n",
      "226/225 [==============================] - 30s 134ms/step - loss: 0.6287 - acc: 0.6495\n",
      "226/225 [==============================] - 66s 291ms/step - loss: 0.6254 - acc: 0.6477 - val_loss: 0.6311 - val_acc: 0.6495\n",
      "Epoch 5/32\n",
      "225/225 [============================>.] - ETA: 0s - loss: 0.6015 - acc: 0.6751Epoch 1/32\n",
      "226/225 [==============================] - 30s 134ms/step - loss: 0.5715 - acc: 0.7017\n",
      "226/225 [==============================] - 66s 290ms/step - loss: 0.6018 - acc: 0.6753 - val_loss: 0.5737 - val_acc: 0.7017\n",
      "Epoch 6/32\n",
      "225/225 [============================>.] - ETA: 0s - loss: 0.5838 - acc: 0.6895Epoch 1/32\n",
      "226/225 [==============================] - 30s 134ms/step - loss: 0.5626 - acc: 0.7019\n",
      "226/225 [==============================] - 65s 289ms/step - loss: 0.5836 - acc: 0.6899 - val_loss: 0.5647 - val_acc: 0.7019\n",
      "Epoch 7/32\n",
      "225/225 [============================>.] - ETA: 0s - loss: 0.5711 - acc: 0.7024Epoch 1/32\n",
      "226/225 [==============================] - 30s 134ms/step - loss: 0.5579 - acc: 0.6966\n",
      "226/225 [==============================] - 65s 289ms/step - loss: 0.5716 - acc: 0.7022 - val_loss: 0.5600 - val_acc: 0.6966\n",
      "Epoch 8/32\n",
      "225/225 [============================>.] - ETA: 0s - loss: 0.5644 - acc: 0.7063Epoch 1/32\n",
      "226/225 [==============================] - 30s 134ms/step - loss: 0.5495 - acc: 0.7177\n",
      "226/225 [==============================] - 65s 289ms/step - loss: 0.5638 - acc: 0.7066 - val_loss: 0.5516 - val_acc: 0.7177\n",
      "Epoch 9/32\n",
      "225/225 [============================>.] - ETA: 0s - loss: 0.5569 - acc: 0.7153Epoch 1/32\n",
      "226/225 [==============================] - 30s 134ms/step - loss: 0.5517 - acc: 0.7057\n",
      "226/225 [==============================] - 65s 289ms/step - loss: 0.5564 - acc: 0.7159 - val_loss: 0.5537 - val_acc: 0.7057\n",
      "Epoch 10/32\n",
      "225/225 [============================>.] - ETA: 0s - loss: 0.5426 - acc: 0.7261Epoch 1/32\n",
      "226/225 [==============================] - 30s 134ms/step - loss: 0.5173 - acc: 0.7476\n",
      "226/225 [==============================] - 66s 290ms/step - loss: 0.5421 - acc: 0.7265 - val_loss: 0.5192 - val_acc: 0.7476\n",
      "Epoch 11/32\n",
      "225/225 [============================>.] - ETA: 0s - loss: 0.5500 - acc: 0.7158Epoch 1/32\n",
      "226/225 [==============================] - 30s 134ms/step - loss: 0.5016 - acc: 0.7517\n",
      "226/225 [==============================] - 66s 290ms/step - loss: 0.5501 - acc: 0.7155 - val_loss: 0.5034 - val_acc: 0.7517\n",
      "Epoch 12/32\n",
      "225/225 [============================>.] - ETA: 0s - loss: 0.5346 - acc: 0.7321Epoch 1/32\n",
      "226/225 [==============================] - 30s 134ms/step - loss: 0.5035 - acc: 0.7434\n",
      "226/225 [==============================] - 66s 290ms/step - loss: 0.5343 - acc: 0.7325 - val_loss: 0.5054 - val_acc: 0.7434\n",
      "Epoch 13/32\n",
      "225/225 [============================>.] - ETA: 0s - loss: 0.5249 - acc: 0.7383Epoch 1/32\n",
      "226/225 [==============================] - 30s 134ms/step - loss: 0.4869 - acc: 0.7579\n",
      "226/225 [==============================] - 65s 289ms/step - loss: 0.5244 - acc: 0.7387 - val_loss: 0.4888 - val_acc: 0.7579\n",
      "Epoch 14/32\n",
      "225/225 [============================>.] - ETA: 0s - loss: 0.5093 - acc: 0.7471Epoch 1/32\n",
      "226/225 [==============================] - 30s 134ms/step - loss: 0.5093 - acc: 0.7397\n",
      "226/225 [==============================] - 66s 290ms/step - loss: 0.5090 - acc: 0.7471 - val_loss: 0.5112 - val_acc: 0.7397\n",
      "Epoch 15/32\n",
      "225/225 [============================>.] - ETA: 0s - loss: 0.5152 - acc: 0.7470Epoch 1/32\n",
      "226/225 [==============================] - 31s 135ms/step - loss: 0.5131 - acc: 0.7450\n",
      "226/225 [==============================] - 66s 294ms/step - loss: 0.5153 - acc: 0.7468 - val_loss: 0.5150 - val_acc: 0.7450\n",
      "Epoch 16/32\n",
      "225/225 [============================>.] - ETA: 0s - loss: 0.5104 - acc: 0.7466Epoch 1/32\n",
      "226/225 [==============================] - 30s 134ms/step - loss: 0.4791 - acc: 0.7662\n",
      "226/225 [==============================] - 66s 291ms/step - loss: 0.5098 - acc: 0.7472 - val_loss: 0.4809 - val_acc: 0.7662\n",
      "Epoch 17/32\n",
      "225/225 [============================>.] - ETA: 0s - loss: 0.4979 - acc: 0.7535Epoch 1/32\n",
      "226/225 [==============================] - 31s 135ms/step - loss: 0.4811 - acc: 0.7579\n",
      "226/225 [==============================] - 66s 292ms/step - loss: 0.4976 - acc: 0.7539 - val_loss: 0.4829 - val_acc: 0.7579\n",
      "Epoch 18/32\n",
      "225/225 [============================>.] - ETA: 0s - loss: 0.4964 - acc: 0.7591Epoch 1/32\n",
      "226/225 [==============================] - 30s 134ms/step - loss: 0.4978 - acc: 0.7459\n",
      "226/225 [==============================] - 66s 290ms/step - loss: 0.4965 - acc: 0.7589 - val_loss: 0.4997 - val_acc: 0.7459\n",
      "Epoch 19/32\n",
      "225/225 [============================>.] - ETA: 0s - loss: 0.4882 - acc: 0.7556Epoch 1/32\n",
      "226/225 [==============================] - 30s 134ms/step - loss: 0.4634 - acc: 0.7829\n",
      "226/225 [==============================] - 66s 291ms/step - loss: 0.4888 - acc: 0.7553 - val_loss: 0.4651 - val_acc: 0.7829\n",
      "Epoch 20/32\n",
      "225/225 [============================>.] - ETA: 0s - loss: 0.4866 - acc: 0.7629Epoch 1/32\n",
      "226/225 [==============================] - 30s 134ms/step - loss: 0.4896 - acc: 0.7571\n",
      "226/225 [==============================] - 66s 290ms/step - loss: 0.4864 - acc: 0.7631 - val_loss: 0.4914 - val_acc: 0.7571\n",
      "Epoch 21/32\n",
      "225/225 [============================>.] - ETA: 0s - loss: 0.4793 - acc: 0.7626Epoch 1/32\n",
      "226/225 [==============================] - 31s 135ms/step - loss: 0.4714 - acc: 0.7857\n",
      "226/225 [==============================] - 66s 291ms/step - loss: 0.4798 - acc: 0.7627 - val_loss: 0.4732 - val_acc: 0.7857\n",
      "Epoch 22/32\n",
      "225/225 [============================>.] - ETA: 0s - loss: 0.4839 - acc: 0.7611Epoch 1/32\n",
      "226/225 [==============================] - 30s 134ms/step - loss: 0.4402 - acc: 0.7925\n",
      "226/225 [==============================] - 66s 290ms/step - loss: 0.4837 - acc: 0.7612 - val_loss: 0.4419 - val_acc: 0.7925\n",
      "Epoch 23/32\n",
      "225/225 [============================>.] - ETA: 0s - loss: 0.4738 - acc: 0.7744Epoch 1/32\n",
      "226/225 [==============================] - 30s 134ms/step - loss: 0.4347 - acc: 0.7951\n",
      "226/225 [==============================] - 66s 291ms/step - loss: 0.4734 - acc: 0.7745 - val_loss: 0.4363 - val_acc: 0.7951\n",
      "Epoch 24/32\n",
      "225/225 [============================>.] - ETA: 0s - loss: 0.4632 - acc: 0.7794Epoch 1/32\n",
      "226/225 [==============================] - 30s 134ms/step - loss: 0.4516 - acc: 0.7931\n",
      "226/225 [==============================] - 66s 291ms/step - loss: 0.4647 - acc: 0.7783 - val_loss: 0.4533 - val_acc: 0.7931\n",
      "Epoch 25/32\n",
      "225/225 [============================>.] - ETA: 0s - loss: 0.4686 - acc: 0.7714Epoch 1/32\n",
      "226/225 [==============================] - 30s 135ms/step - loss: 0.4487 - acc: 0.7890\n",
      "226/225 [==============================] - 66s 291ms/step - loss: 0.4687 - acc: 0.7710 - val_loss: 0.4504 - val_acc: 0.7890\n",
      "Epoch 26/32\n",
      "225/225 [============================>.] - ETA: 0s - loss: 0.4707 - acc: 0.7683Epoch 1/32\n",
      "226/225 [==============================] - 30s 134ms/step - loss: 0.4596 - acc: 0.7753\n",
      "226/225 [==============================] - 65s 290ms/step - loss: 0.4708 - acc: 0.7681 - val_loss: 0.4613 - val_acc: 0.7753\n",
      "Epoch 27/32\n",
      "225/225 [============================>.] - ETA: 0s - loss: 0.4682 - acc: 0.7740Epoch 1/32\n",
      "226/225 [==============================] - 30s 134ms/step - loss: 0.4558 - acc: 0.7830\n",
      "226/225 [==============================] - 66s 290ms/step - loss: 0.4681 - acc: 0.7739 - val_loss: 0.4575 - val_acc: 0.7830\n",
      "Epoch 28/32\n",
      "225/225 [============================>.] - ETA: 0s - loss: 0.4604 - acc: 0.7813Epoch 1/32\n",
      "226/225 [==============================] - 30s 134ms/step - loss: 0.4535 - acc: 0.7895\n",
      "226/225 [==============================] - 66s 291ms/step - loss: 0.4614 - acc: 0.7805 - val_loss: 0.4552 - val_acc: 0.7895\n",
      "Epoch 29/32\n",
      "225/225 [============================>.] - ETA: 0s - loss: 0.4592 - acc: 0.7865Epoch 1/32\n",
      "226/225 [==============================] - 30s 135ms/step - loss: 0.4319 - acc: 0.8019\n",
      "226/225 [==============================] - 66s 291ms/step - loss: 0.4597 - acc: 0.7862 - val_loss: 0.4335 - val_acc: 0.8019\n",
      "Epoch 30/32\n",
      "225/225 [============================>.] - ETA: 0s - loss: 0.4543 - acc: 0.7857Epoch 1/32\n",
      "226/225 [==============================] - 30s 134ms/step - loss: 0.4325 - acc: 0.7989\n",
      "226/225 [==============================] - 66s 290ms/step - loss: 0.4535 - acc: 0.7861 - val_loss: 0.4341 - val_acc: 0.7989\n",
      "Epoch 31/32\n",
      "225/225 [============================>.] - ETA: 0s - loss: 0.4381 - acc: 0.7935Epoch 1/32\n",
      "226/225 [==============================] - 30s 135ms/step - loss: 0.4360 - acc: 0.7951\n",
      "226/225 [==============================] - 66s 291ms/step - loss: 0.4387 - acc: 0.7929 - val_loss: 0.4376 - val_acc: 0.7951\n",
      "Epoch 32/32\n",
      "225/225 [============================>.] - ETA: 0s - loss: 0.4398 - acc: 0.7887Epoch 1/32\n",
      "226/225 [==============================] - 30s 135ms/step - loss: 0.4564 - acc: 0.7806\n",
      "226/225 [==============================] - 66s 291ms/step - loss: 0.4395 - acc: 0.7888 - val_loss: 0.4581 - val_acc: 0.7806\n"
     ]
    }
   ],
   "source": [
    "epochs = 32\n",
    "history = model.fit_generator(\n",
    "    trainGen, \n",
    "    epochs=epochs,\n",
    "    steps_per_epoch=trainGen.samples / epochs, \n",
    "    validation_data=validationGen,\n",
    "    validation_steps=trainGen.samples / epochs,\n",
    ")"
   ]
  },
  {
   "cell_type": "code",
   "execution_count": 9,
   "metadata": {},
   "outputs": [
    {
     "data": {
      "text/plain": [
       "<Figure size 1600x200 with 2 Axes>"
      ]
     },
     "metadata": {},
     "output_type": "display_data"
    }
   ],
   "source": [
    "import matplotlib.pyplot as plt\n",
    "\n",
    "def show_graph(history_dict):\n",
    "    accuracy = history_dict['acc']\n",
    "    val_accuracy = history_dict['val_acc']\n",
    "    loss = history_dict['loss']\n",
    "    val_loss = history_dict['val_loss']\n",
    "\n",
    "    epochs = range(1, len(loss) + 1)\n",
    "    \n",
    "    plt.figure(figsize=(16, 2))\n",
    "    \n",
    "    plt.subplot(121)\n",
    "    plt.subplots_adjust(top=2)\n",
    "    plt.plot(epochs, accuracy, label='Training accuracy')\n",
    "    plt.plot(epochs, val_accuracy, label='Validation accuracy')\n",
    "    plt.title('Trainging and validation accuracy')\n",
    "    plt.xlabel('Epochs')\n",
    "    plt.ylabel('Accuracy')\n",
    "\n",
    "    plt.legend(loc='upper center', bbox_to_anchor=(0.5, -0.1),\n",
    "              fancybox=True, shadow=True, ncol=5)\n",
    "#     plt.legend(bbox_to_anchor=(1, -0.1))\n",
    "\n",
    "    plt.subplot(122)\n",
    "    plt.plot(epochs, loss, label='Training loss')\n",
    "    plt.plot(epochs, val_loss, label='Validation loss')\n",
    "    plt.title('Training and validation loss')\n",
    "    plt.xlabel('Epochs')\n",
    "    plt.ylabel('Loss')\n",
    "    plt.legend(loc='upper center', bbox_to_anchor=(0.5, -0.1),\n",
    "          fancybox=True, shadow=True, ncol=5)\n",
    "#     plt.legend(bbox_to_anchor=(1, 0))\n",
    "\n",
    "    plt.show()\n",
    "show_graph(history.history)"
   ]
  },
  {
   "cell_type": "code",
   "execution_count": 10,
   "metadata": {},
   "outputs": [
    {
     "name": "stdout",
     "output_type": "stream",
     "text": [
      "Found 2023 images belonging to 2 classes.\n"
     ]
    },
    {
     "data": {
      "text/plain": [
       "[0.4658347088843584, 0.7718735]"
      ]
     },
     "execution_count": 10,
     "metadata": {},
     "output_type": "execute_result"
    }
   ],
   "source": [
    "testGenerator = ImageDataGenerator(\n",
    "    rescale=1./255\n",
    ")\n",
    "\n",
    "testGen = imageGenerator.flow_from_directory(\n",
    "    os.path.join(rootPath, 'test_set'),\n",
    "    target_size=(64, 64),\n",
    ")\n",
    "\n",
    "model.evaluate_generator(testGen)"
   ]
  },
  {
   "cell_type": "code",
   "execution_count": 11,
   "metadata": {},
   "outputs": [
    {
     "name": "stdout",
     "output_type": "stream",
     "text": [
      "예측: 고양이\n",
      "정답: 고양이\n"
     ]
    },
    {
     "data": {
      "image/png": "[encoded data removed]",
      "text/plain": [
       "<Figure size 432x288 with 1 Axes>"
      ]
     },
     "metadata": {
      "needs_background": "light"
     },
     "output_type": "display_data"
    }
   ],
   "source": [
    "from tensorflow.keras.preprocessing.image import array_to_img\n",
    "import numpy as np\n",
    "\n",
    "cls_index = ['고양이', '개']\n",
    "\n",
    "imgs = testGen.next()\n",
    "arr = imgs[0][0]\n",
    "img = array_to_img(arr).resize((128, 128))\n",
    "plt.imshow(img)\n",
    "result = model.predict_classes(arr.reshape(1, 64, 64, 3))\n",
    "print('예측: {}'.format(cls_index[result[0]]))\n",
    "print('정답: {}'.format(cls_index[np.argmax(imgs[1][0])]))"
   ]
  },
  {
   "cell_type": "code",
   "execution_count": 12,
   "metadata": {},
   "outputs": [
    {
     "name": "stdout",
     "output_type": "stream",
     "text": [
      "예측: 고양이\n",
      "정답: 고양이\n"
     ]
    },
    {
     "data": {
      "image/png": "[encoded data removed]",
      "text/plain": [
       "<Figure size 432x288 with 1 Axes>"
      ]
     },
     "metadata": {
      "needs_background": "light"
     },
     "output_type": "display_data"
    }
   ],
   "source": [
    "from tensorflow.keras.preprocessing.image import array_to_img\n",
    "import numpy as np\n",
    "\n",
    "cls_index = ['고양이', '개']\n",
    "\n",
    "imgs = testGen.next()\n",
    "arr = imgs[0][0]\n",
    "img = array_to_img(arr).resize((128, 128))\n",
    "plt.imshow(img)\n",
    "result = model.predict_classes(arr.reshape(1, 64, 64, 3))\n",
    "print('예측: {}'.format(cls_index[result[0]]))\n",
    "print('정답: {}'.format(cls_index[np.argmax(imgs[1][0])]))"
   ]
  },
  {
   "cell_type": "code",
   "execution_count": 13,
   "metadata": {},
   "outputs": [
    {
     "name": "stdout",
     "output_type": "stream",
     "text": [
      "예측: 개\n",
      "정답: 개\n"
     ]
    },
    {
     "data": {
      "image/png": "[encoded data removed]",
      "text/plain": [
       "<Figure size 432x288 with 1 Axes>"
      ]
     },
     "metadata": {
      "needs_background": "light"
     },
     "output_type": "display_data"
    }
   ],
   "source": [
    "from tensorflow.keras.preprocessing.image import array_to_img\n",
    "import numpy as np\n",
    "\n",
    "cls_index = ['고양이', '개']\n",
    "\n",
    "imgs = testGen.next()\n",
    "arr = imgs[0][0]\n",
    "img = array_to_img(arr).resize((128, 128))\n",
    "plt.imshow(img)\n",
    "result = model.predict_classes(arr.reshape(1, 64, 64, 3))\n",
    "print('예측: {}'.format(cls_index[result[0]]))\n",
    "print('정답: {}'.format(cls_index[np.argmax(imgs[1][0])]))\n"
   ]
  },
  {
   "cell_type": "code",
   "execution_count": 14,
   "metadata": {},
   "outputs": [
    {
     "name": "stdout",
     "output_type": "stream",
     "text": [
      "예측: 개\n",
      "정답: 개\n"
     ]
    },
    {
     "data": {
      "image/png": "[encoded data removed]",
      "text/plain": [
       "<Figure size 432x288 with 1 Axes>"
      ]
     },
     "metadata": {
      "needs_background": "light"
     },
     "output_type": "display_data"
    }
   ],
   "source": [
    "from tensorflow.keras.preprocessing.image import array_to_img\n",
    "import numpy as np\n",
    "\n",
    "cls_index = ['고양이', '개']\n",
    "\n",
    "imgs = testGen.next()\n",
    "arr = imgs[0][0]\n",
    "img = array_to_img(arr).resize((128, 128))\n",
    "plt.imshow(img)\n",
    "result = model.predict_classes(arr.reshape(1, 64, 64, 3))\n",
    "print('예측: {}'.format(cls_index[result[0]]))\n",
    "print('정답: {}'.format(cls_index[np.argmax(imgs[1][0])]))"
   ]
  },
  {
   "cell_type": "code",
   "execution_count": null,
   "metadata": {},
   "outputs": [],
   "source": []
  }
 ],
 "metadata": {
  "kernelspec": {
   "display_name": "Python 3",
   "language": "python",
   "name": "python3"
  },
  "language_info": {
   "codemirror_mode": {
    "name": "ipython",
    "version": 3
   },
   "file_extension": ".py",
   "mimetype": "text/x-python",
   "name": "python",
   "nbconvert_exporter": "python",
   "pygments_lexer": "ipython3",
   "version": "3.5.2"
  }
 },
 "nbformat": 4,
 "nbformat_minor": 2
}
