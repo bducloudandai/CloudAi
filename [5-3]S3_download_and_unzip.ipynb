{
 "cells": [
  {
   "cell_type": "code",
   "execution_count": 1,
   "metadata": {},
   "outputs": [],
   "source": [
    "import boto3\n",
    "import botocore\n",
    "\n",
    "bucket_name = 'bdu01'\n",
    "\n",
    "\n",
    "in_file = 'cat-and-dog.zip'\n",
    "out_file = in_file\n",
    "\n",
    "s3 = boto3.resource('s3')\n",
    "\n",
    "try :\n",
    "    s3.Bucket(bucket_name).download_file(in_file, out_file)\n",
    "except botocore.exceptions.ClientError as e:\n",
    "    if e.response['Error']['Code'] == '404':\n",
    "        print('해당 파일이 없습니다.')\n",
    "    else:\n",
    "        raise"
   ]
  },
  {
   "cell_type": "code",
   "execution_count": 2,
   "metadata": {},
   "outputs": [
    {
     "name": "stdout",
     "output_type": "stream",
     "text": [
      "uncompress success\n"
     ]
    }
   ],
   "source": [
    "import zipfile\n",
    " \n",
    "try:\n",
    "    with zipfile.ZipFile(\"cat-and-dog.zip\") as zf:\n",
    "        zf.extractall()\n",
    "        print(\"uncompress success\")\n",
    " \n",
    "except:\n",
    "    print(\"uncompress fail\")\n"
   ]
  },
  {
   "cell_type": "code",
   "execution_count": null,
   "metadata": {},
   "outputs": [],
   "source": []
  }
 ],
 "metadata": {
  "kernelspec": {
   "display_name": "Python 3",
   "language": "python",
   "name": "python3"
  },
  "language_info": {
   "codemirror_mode": {
    "name": "ipython",
    "version": 3
   },
   "file_extension": ".py",
   "mimetype": "text/x-python",
   "name": "python",
   "nbconvert_exporter": "python",
   "pygments_lexer": "ipython3",
   "version": "3.6.9"
  }
 },
 "nbformat": 4,
 "nbformat_minor": 4
}
